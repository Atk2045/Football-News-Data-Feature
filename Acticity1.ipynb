{
  "cells": [
    {
      "cell_type": "markdown",
      "metadata": {
        "id": "view-in-github",
        "colab_type": "text"
      },
      "source": [
        "<a href=\"https://colab.research.google.com/github/Atk2045/Football-News-Data-Feature/blob/main/Acticity1.ipynb\" target=\"_parent\"><img src=\"https://colab.research.google.com/assets/colab-badge.svg\" alt=\"Open In Colab\"/></a>"
      ]
    },
    {
      "cell_type": "markdown",
      "metadata": {
        "id": "hMusGkZNlHZ4"
      },
      "source": [
        "Assignment 1:\n",
        "\n",
        "\n",
        "We will build a data feature that tells people news about the teams in a match and league of their choice.\n",
        "\n",
        "We will use two APIs:\n",
        "\n",
        "\n",
        "1. An API for football matches\n",
        "2. An API to find the news relating to the teams\n",
        "\n",
        "Steps:\n",
        "\n",
        "\n",
        "*   Sign up for a football API key\n",
        "*   Sign up for a news API key\n",
        "*   Add API Key's to colab's secrets\n",
        "*   Test the APIs\n",
        "*   Function to get the uocoming matches data about the Leauges\n",
        "*   Function to get the article data for the the teams chosen\n",
        "\n",
        "\n",
        "\n",
        "\n",
        "\n",
        "\n",
        "\n"
      ]
    },
    {
      "cell_type": "code",
      "execution_count": 7,
      "metadata": {
        "id": "k1kVO8v21Q7Z"
      },
      "outputs": [],
      "source": [
        "#importing both requests and json\n",
        "import requests\n",
        "import json\n",
        "\n",
        "# initializing  the keys for the APIs\n",
        "from google.colab import userdata\n",
        "FOOTBALL_API_KEY = userdata.get('FOOTBALL_API_KEY')\n",
        "NEWS_API_KEY = userdata.get('NEWS_API_KEY')\n",
        "\n"
      ]
    },
    {
      "cell_type": "code",
      "execution_count": 8,
      "metadata": {
        "id": "UKBItR9KMew8"
      },
      "outputs": [],
      "source": [
        "import requests\n",
        "# creating the functions for league selection\n",
        "def league_selector():\n",
        "#  Condition that the user choice should be one of these options\n",
        "    while True:\n",
        "        print(\"Select the league to view upcoming matches:\")\n",
        "        print(\"1. Champions League\")\n",
        "        print(\"2. Premier League\")\n",
        "        print(\"3. French League\")\n",
        "        print(\"4. Italian League\")\n",
        "        print(\"5. German League\")\n",
        "        print(\"6. Spanish League\")\n",
        "        league_choice = input(\"Enter your League choice (1-6): \")\n",
        "# Dictionary with the choices to limit the user data entry\n",
        "# All codes below are according the league ID in the football API\n",
        "        league_ids = {\n",
        "            # code for the Champions League\n",
        "            '1': 2,\n",
        "            # code for the Premier League\n",
        "            '2': 39,\n",
        "            # code for the French League\n",
        "            '3': 61,\n",
        "            # code for the Italian League\n",
        "            '4': 135,\n",
        "            # code for the German League\n",
        "            '5': 78,\n",
        "            # code for the Spanish League\n",
        "            '6': 140}\n",
        "# if league_choice in ID's then return the corresponding league\n",
        "        if league_choice in league_ids:\n",
        "            return league_ids[league_choice]\n",
        "        else:\n",
        "# if league_choice was out of the options retun this error message and allow re-entry\n",
        "            print(\"Invalid choice, please enter a number from the options above.\")\n",
        "\n"
      ]
    },
    {
      "cell_type": "code",
      "execution_count": 9,
      "metadata": {
        "id": "XMfv_3DjilkE"
      },
      "outputs": [],
      "source": [
        "# creating the function for getting the upcoming 10 matches for a certain league based on the date the code is ran with a parameter of the league_id\n",
        "def upcoming_matches(league_id):\n",
        "  # the url for the football API added to fetch this data from it\n",
        "    url = \"https://api-football-v1.p.rapidapi.com/v3/fixtures\"\n",
        "    headers = {\n",
        "        'x-rapidapi-key': FOOTBALL_API_KEY,\n",
        "        'x-rapidapi-host': 'api-football-v1.p.rapidapi.com'\n",
        "    }\n",
        "    # parameters including the league_id accorrding to API and the number of matches fetched\n",
        "    params = {\n",
        "        'league': league_id,\n",
        "        'next': 10\n",
        "    }\n",
        "    response = requests.get(url , headers=headers , params=params)\n",
        "    # The success number 200 as per the API\n",
        "    if response.status_code == 200:\n",
        "        matches = response.json()\n",
        "        return matches['response']\n",
        "    else:\n",
        "        print(f\"Failed to fetch matches: {response.status_code} - {response.text}\")\n",
        "        return None\n"
      ]
    },
    {
      "cell_type": "code",
      "execution_count": 10,
      "metadata": {
        "id": "Uo__qUZVh2Td"
      },
      "outputs": [],
      "source": [
        "def match_selector():\n",
        "  # getting the list of matches from the football API\n",
        "    matches = upcoming_matches()\n",
        "    # if there are 10 matches available to be displayed then they will available for the user's selection\n",
        "    if matches:\n",
        "      # the user is then asked to pick a match from (1-10)\n",
        "        print(\"Select a match by entering its number (1-10):\")\n",
        "        # numbering the matches by this loop from 1-10 using the enumerate function\n",
        "        for i, match in enumerate(matches, 1):\n",
        "            # some formats for displaying the teams names'\n",
        "            home_team = match['teams']['home']['name']\n",
        "            away_team = match['teams']['away']['name']\n",
        "            # Date format to match UTC\n",
        "            match_date = match['fixture']['date'].replace(\"T\", \" \").split(\"+\")[0]\n",
        "            # formatting the match fixture to be displayed with the date using f- string\n",
        "            print(f\"{i}. {home_team} vs {away_team} on {match_date}\")\n",
        "\n",
        "        league_choice = int(input(\"Enter your choice (number): \"))\n",
        "        # checks if the number is entered from the list\n",
        "        if 1 <= league_choice <= len(matches):\n",
        "          #league choice is subtractted by 1 to match the dictionary since the numbering starts from 1\n",
        "            return matches[league_choice - 1]\n",
        "        else:\n",
        "            print(\"Invalid choice. Please try again.\")\n",
        "            return None\n",
        "    # if not in list this message will be printed\n",
        "    else:\n",
        "        print(\"No upcoming matches available.\")\n",
        "        return None"
      ]
    },
    {
      "cell_type": "code",
      "execution_count": 11,
      "metadata": {
        "id": "tH1JBFgYh7ly"
      },
      "outputs": [],
      "source": [
        "def news_articles(team_name):\n",
        "   # gets the URL for NY Times article by team name using the news API\n",
        "    url = f\"https://api.nytimes.com/svc/search/v2/articlesearch.json?q={team_name} football\"\n",
        "    params = {'api-key':NEWS_API_KEY}\n",
        "    response = requests.get(url, params=params)\n",
        "    # if successful then 200 , according to API\n",
        "    if response.status_code == 200:\n",
        "      # extract articles\n",
        "        return response.json()['response']['docs']\n",
        "    else:\n",
        "        print(f\"Failed to fetch news articles for {team_name}: {response.status_code}\") # error message\n",
        "        return None\n"
      ]
    },
    {
      "cell_type": "code",
      "execution_count": 12,
      "metadata": {
        "colab": {
          "base_uri": "https://localhost:8080/"
        },
        "id": "ckbUu7hDh_tR",
        "outputId": "39e8a313-6d78-46f9-cf97-15201f355f03"
      },
      "outputs": [
        {
          "output_type": "stream",
          "name": "stdout",
          "text": [
            "Select the league to view upcoming matches:\n",
            "1. Champions League\n",
            "2. Premier League\n",
            "3. French League\n",
            "4. Italian League\n",
            "5. German League\n",
            "6. Spanish League\n",
            "Enter your League choice (1-6): 5\n",
            "Upcoming Matches:\n",
            "1. FC Augsburg vs FSV Mainz 05 on 2024-09-20 18:30:00 UTC\n",
            "2. 1. FC Heidenheim vs SC Freiburg on 2024-09-21 13:30:00 UTC\n",
            "3. Werder Bremen vs Bayern München on 2024-09-21 13:30:00 UTC\n",
            "4. Union Berlin vs 1899 Hoffenheim on 2024-09-21 13:30:00 UTC\n",
            "5. VfL Bochum vs Holstein Kiel on 2024-09-21 13:30:00 UTC\n",
            "6. Eintracht Frankfurt vs Borussia Mönchengladbach on 2024-09-21 16:30:00 UTC\n",
            "7. Bayer Leverkusen vs VfL Wolfsburg on 2024-09-22 13:30:00 UTC\n",
            "8. VfB Stuttgart vs Borussia Dortmund on 2024-09-22 15:30:00 UTC\n",
            "9. FC St. Pauli vs RB Leipzig on 2024-09-22 17:30:00 UTC\n",
            "10. Borussia Dortmund vs VfL Bochum on 2024-09-27 18:30:00 UTC\n",
            "Enter the match number to view news about the teams: 6\n",
            "News for Eintracht Frankfurt:\n",
            "- Eintracht Frankfurt: Germany’s Surprise Team (URL: https://goal.blogs.nytimes.com/2012/09/26/eintracht-frankfurt-germanys-surprise-team/)\n",
            "- European Football Results (URL: https://www.nytimes.com/1967/04/19/archives/european-football-results.html)\n",
            "- Sports Today (URL: https://www.nytimes.com/1967/09/16/archives/sports-today.html)\n",
            "- European Football (URL: https://www.nytimes.com/1975/10/01/archives/european-football.html)\n",
            "- West German Football (URL: https://www.nytimes.com/1977/05/22/archives/west-german-football.html)\n",
            "- European Football (URL: https://www.nytimes.com/1976/10/10/archives/european-football.html)\n",
            "- ‘Philosophy Football’ (URL: https://goal.blogs.nytimes.com/2010/04/30/philosophy-football/)\n",
            "- British Football Results (URL: https://www.nytimes.com/1977/09/25/archives/british-football-results.html)\n",
            "- British Football (URL: https://www.nytimes.com/1977/05/08/archives/british-football.html)\n",
            "- European Football (URL: https://www.nytimes.com/1976/09/12/archives/european-football.html)\n",
            "News for Borussia Mönchengladbach:\n",
            "- Borussia Monchengladbach Learns a Champions League Lesson (URL: https://goal.blogs.nytimes.com/2012/08/23/borussia-monchengladbach-learns-a-champions-league-lesson/)\n",
            "- British Football (URL: https://www.nytimes.com/1977/05/08/archives/british-football.html)\n",
            "- FOOTBALL VIOLENCE; FOOTBALL (URL: https://www.nytimes.com/1980/11/30/archives/football-violence-football.html)\n",
            "- Football Losers Now Winners; Football Losers Are Now Winners (URL: https://www.nytimes.com/1980/12/28/archives/westchester-weekly-football-losers-now-winners-football-losers-are.html)\n",
            "- Nebraska No. 1 in Football (URL: https://www.nytimes.com/1980/11/07/archives/nebraska-no-1-in-football.html)\n",
            "- Ithaca Is Big in World of Small Football; No Designs on Division I Ithaca Stands Tall In Small Football Family Concept in Football  (URL: https://www.nytimes.com/1980/12/05/archives/ithaca-is-big-in-world-of-small-football-no-designs-on-division-i-i.html)\n",
            "- No Knife or Fork--Just Snacks and Football, Football, Football (URL: https://www.nytimes.com/1967/12/30/archives/no-knife-or-forkjust-snacks-and-football-football-football.html)\n",
            "- Saban Resigns as Football Coach at Army (URL: https://www.nytimes.com/1980/07/18/archives/saban-resigns-as-football-coach-at-army.html)\n",
            "- Howdy Myers, Coached In Football and Lacrosse (URL: https://www.nytimes.com/1980/02/14/archives/howdy-myers-coached-in-football-and-lacrosse.html)\n",
            "- PRO FOOTBALL PREVIEW (URL: https://www.nytimes.com/1980/08/31/archives/pro-football-preview.html)\n"
          ]
        }
      ],
      "source": [
        "def teams_news(home_team, away_team):\n",
        "  # getting home and away team news\n",
        "    home_news = news_articles(home_team)\n",
        "    away_news = news_articles(away_team)\n",
        "  # Home team news printed first\n",
        "    print(f\"News for {home_team}:\")\n",
        "    for article in home_news:\n",
        "        print(f\"- {article['headline']['main']} (URL: {article['web_url']})\")\n",
        "# Away team news then is printed\n",
        "    print(f\"News for {away_team}:\")\n",
        "    for article in away_news:\n",
        "        print(f\"- {article['headline']['main']} (URL: {article['web_url']})\")\n",
        "\n",
        "# user is asked for a league id\n",
        "league_id = league_selector()\n",
        "# checks if the user number is valid\n",
        "if league_id:\n",
        "  # prints the list of upcoming chosen league matches using the ID entered\n",
        "    matches = upcoming_matches(league_id)\n",
        "    if matches:\n",
        "        print(\"Upcoming Matches:\")\n",
        "        # printing the list using enumerate function\n",
        "        for index, match in enumerate(matches, 1):\n",
        "            home_team = match['teams']['home']['name']\n",
        "            away_team = match['teams']['away']['name']\n",
        "            match_date = match['fixture']['date'].replace(\"T\", \" \").split(\"+\")[0]\n",
        "            print(f\"{index}. {home_team} vs {away_team} on {match_date} UTC\")\n",
        "\n",
        "        # asking the user for a match from the upcoming matches choices\n",
        "        # the int is used to change the number entered by the user and then subtract it by 1\n",
        "        selected_index = int(input(\"Enter the match number to view news about the teams: \")) - 1\n",
        "        # checking if the choice is valid\n",
        "        if 0 <= selected_index < len(matches):\n",
        "            selected_match = matches[selected_index]\n",
        "            teams_news(selected_match['teams']['home']['name'], selected_match['teams']['away']['name'])\n",
        "            # error messages if the number is invalid\n",
        "        else:\n",
        "            print(\"Invalid match selection.\")\n",
        "    else:\n",
        "        print(\"No upcoming matches found for the selected league.\")\n",
        "else:\n",
        "    print(\"No valid league was selected, please restart the program.\")"
      ]
    }
  ],
  "metadata": {
    "colab": {
      "provenance": [],
      "include_colab_link": true
    },
    "kernelspec": {
      "display_name": "Python 3",
      "name": "python3"
    },
    "language_info": {
      "name": "python"
    }
  },
  "nbformat": 4,
  "nbformat_minor": 0
}